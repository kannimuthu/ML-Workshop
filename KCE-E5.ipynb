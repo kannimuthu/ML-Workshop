{
 "cells": [
  {
   "cell_type": "code",
   "execution_count": 10,
   "metadata": {},
   "outputs": [],
   "source": [
    "import numpy as np\n",
    "import pandas as pd\n",
    "from sklearn.naive_bayes import MultinomialNB\n",
    "#from sklearn.naive_bayes import GaussianNB\n",
    "from sklearn.metrics import accuracy_score\n",
    "from sklearn.metrics import confusion_matrix"
   ]
  },
  {
   "cell_type": "code",
   "execution_count": 11,
   "metadata": {},
   "outputs": [
    {
     "name": "stdout",
     "output_type": "stream",
     "text": [
      "(8, 4)\n"
     ]
    }
   ],
   "source": [
    "d=pd.read_excel(\"C:\\\\Users\\\\ROHINI\\\\Desktop\\\\KCE-AI & ML\\\\Demo\\\\Bayesian\\\\Bayes-Flu.xlsx\")\n",
    "d=np.asarray(d)\n",
    "print(d.shape)\n",
    "X=d[:,0:3]\n",
    "Y=d[:,3]"
   ]
  },
  {
   "cell_type": "code",
   "execution_count": 12,
   "metadata": {},
   "outputs": [
    {
     "name": "stdout",
     "output_type": "stream",
     "text": [
      "[[1 1 1]\n",
      " [2 1 2]\n",
      " [2 2 2]\n",
      " [1 2 1]\n",
      " [2 2 1]\n",
      " [2 1 2]\n",
      " [1 2 2]\n",
      " [1 2 1]]\n",
      "[0 1 1 0 1 1 0 0]\n"
     ]
    }
   ],
   "source": [
    "print(X)\n",
    "print(Y)"
   ]
  },
  {
   "cell_type": "code",
   "execution_count": 13,
   "metadata": {},
   "outputs": [],
   "source": [
    "r=MultinomialNB()\n",
    "#r=GaussianNB()\n",
    "r=r.fit(X,Y)"
   ]
  },
  {
   "cell_type": "code",
   "execution_count": 15,
   "metadata": {},
   "outputs": [
    {
     "name": "stdout",
     "output_type": "stream",
     "text": [
      "[4. 4.]\n",
      "[0 1]\n",
      "[1 1 1 0 1 1 0 0]\n",
      "Accuracy 87.5\n",
      "CM [[3 1]\n",
      " [0 4]]\n"
     ]
    }
   ],
   "source": [
    "print(r.class_count_)\n",
    "print(r.classes_)\n",
    "predict_Y=r.predict(X)\n",
    "print(predict_Y)\n",
    "print('Accuracy',accuracy_score(Y,predict_Y)*100)\n",
    "print('CM',confusion_matrix(Y,predict_Y))"
   ]
  }
 ],
 "metadata": {
  "kernelspec": {
   "display_name": "Python 3",
   "language": "python",
   "name": "python3"
  },
  "language_info": {
   "codemirror_mode": {
    "name": "ipython",
    "version": 3
   },
   "file_extension": ".py",
   "mimetype": "text/x-python",
   "name": "python",
   "nbconvert_exporter": "python",
   "pygments_lexer": "ipython3",
   "version": "3.7.3"
  }
 },
 "nbformat": 4,
 "nbformat_minor": 2
}
